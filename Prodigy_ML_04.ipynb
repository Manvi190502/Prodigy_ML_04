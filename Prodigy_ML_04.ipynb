{
  "nbformat": 4,
  "nbformat_minor": 0,
  "metadata": {
    "colab": {
      "provenance": [],
      "authorship_tag": "ABX9TyPwb9rzI3su5b/WQBoyZqKR",
      "include_colab_link": true
    },
    "kernelspec": {
      "name": "python3",
      "display_name": "Python 3"
    },
    "language_info": {
      "name": "python"
    }
  },
  "cells": [
    {
      "cell_type": "markdown",
      "metadata": {
        "id": "view-in-github",
        "colab_type": "text"
      },
      "source": [
        "<a href=\"https://colab.research.google.com/github/Manvi190502/Prodigy_ML_04/blob/main/Prodigy_ML_04.ipynb\" target=\"_parent\"><img src=\"https://colab.research.google.com/assets/colab-badge.svg\" alt=\"Open In Colab\"/></a>"
      ]
    },
    {
      "cell_type": "markdown",
      "source": [
        "Food-101"
      ],
      "metadata": {
        "id": "m2VJAnCbZejD"
      }
    },
    {
      "cell_type": "code",
      "execution_count": null,
      "metadata": {
        "id": "2ofqXCcBYvzI"
      },
      "outputs": [],
      "source": [
        "import tensorflow_datasets as tfds"
      ]
    },
    {
      "cell_type": "code",
      "source": [
        "dataset_list=tfds.list_builders()\n",
        "\n",
        "print(\"food101\" in dataset_list)"
      ],
      "metadata": {
        "id": "xZkspSVzY0sf"
      },
      "execution_count": null,
      "outputs": []
    },
    {
      "cell_type": "code",
      "source": [
        "(train_data,test_data),ds_info=tfds.load(name='food101',\n",
        "                                         split=[\"train\",\"validation\"],\n",
        "                                         shuffle_files=True,\n",
        "                                         as_supervised=True,  # give in tuple (data,label)\n",
        "                                         with_info=True)      # meta data"
      ],
      "metadata": {
        "id": "NwR-xITxY0u4"
      },
      "execution_count": null,
      "outputs": []
    },
    {
      "cell_type": "code",
      "source": [
        "# meta data\n",
        "ds_info.features\n",
        "\n",
        "# class names of data\n",
        "class_names=ds_info.features[\"label\"].names\n",
        "class_names[:10]\n",
        "\n",
        "# minimum and maximum pixel value\n",
        "\n",
        "import tensorflow as tf\n",
        "\n",
        "tf.reduce_min(x[0]),tf.reduce_max(x[0])\n",
        "\n"
      ],
      "metadata": {
        "id": "A-VJ2syXY0xW"
      },
      "execution_count": null,
      "outputs": []
    },
    {
      "cell_type": "code",
      "source": [
        "# preprocessing function\n",
        "\n",
        "def preprocess_img(image,label,image_shape=224):\n",
        "  \"\"\" convert image dtype from unit8 to float32,reshapes\n",
        "      image to [image_shape,image_shape,color_channel]\n",
        "  \"\"\"\n",
        "  image=tf.image.resize(image,[image_shape,image_shape]) # target image\n",
        "  return tf.cast(image,tf.float32),label\n",
        "\n",
        "sample_image=x[0]\n",
        "preprocessed_image=preprocess_img(x[0],x[1])[0]\n",
        "\n",
        "print(\"Before preprocessing...\")\n",
        "print(f\"\"\"\n",
        "sample image shape : {sample_image.shape}\n",
        "sample image dtype : {sample_image.dtype}\n",
        "\"\"\")\n",
        "\n",
        "print(\"After preprocessing...\")\n",
        "print(f\"\"\"\n",
        "preprocessed image shape : {preprocessed_image.shape}\n",
        "preprocessed image dtype : {preprocessed_image.dtype}\n",
        "\"\"\")\n",
        "\n"
      ],
      "metadata": {
        "id": "RWd0PD04Y0z0"
      },
      "execution_count": null,
      "outputs": []
    },
    {
      "cell_type": "code",
      "source": [
        "# map preprocess function to training data (by parallel processing)\n",
        "train_data=train_data.map(map_func=preprocess_img,num_parallel_calls=tf.data.AUTOTUNE)\n",
        "\n",
        "# shuffle our training data then make batches and prefetch it for faster to load\n",
        "train_data=train_data.shuffle(buffer_size=1000).batch(batch_size=32).prefetch(tf.data.AUTOTUNE)\n",
        "\n",
        "# now same process for testing data\n",
        "test_data=test_data.map(map_func=preprocess_img,num_parallel_calls=tf.data.AUTOTUNE).batch(batch_size=32).prefetch(buffer_size=1000)\n",
        "\n",
        "train_data,test_data"
      ],
      "metadata": {
        "id": "4WxCKr8jY017"
      },
      "execution_count": null,
      "outputs": []
    },
    {
      "cell_type": "code",
      "source": [
        "from tensorflow.keras import mixed_precision\n",
        "\n",
        "mixed_precision.set_global_policy('mixed_float16')"
      ],
      "metadata": {
        "id": "uHYhOEIJY04h"
      },
      "execution_count": null,
      "outputs": []
    },
    {
      "cell_type": "code",
      "source": [
        "from tensorflow.keras import layers\n",
        "from tensorflow.keras.layers import Dense\n",
        "from tensorflow.keras.layers.experimental import preprocessing\n",
        "\n",
        "len(class_names)\n",
        "\n",
        "# Data Augumented as rotated,flipped,cropped..\n",
        "\n",
        "Data_augumentaion=tf.keras.Sequential([\n",
        "  preprocessing.RandomFlip('horizontal'),\n",
        "  preprocessing.RandomRotation(0.2),\n",
        "  preprocessing.RandomZoom(0.2),\n",
        "  preprocessing.RandomHeight(0.2),\n",
        "  preprocessing.RandomWidth(0.2)\n",
        "],name=\"data_augumentation\")\n",
        "\n",
        "base_model=tf.keras.applications.EfficientNetB0(include_top=False)\n",
        "base_model.trainable=False\n",
        "\n",
        "input=layers.Input(shape=(224,224,3),name='input_layer')\n",
        "x=Data_augumentaion(input)\n",
        "x=base_model(x,training=False)\n",
        "\n",
        "x=layers.GlobalAveragePooling2D(name='global_average_pooling_layer')(x)\n",
        "x=layers.Dense(len(class_names))(x)\n",
        "output=layers.Activation(activation='softmax',dtype=tf.float32,name='softmax_mixed_output_layer')(x)\n",
        "\n",
        "model=tf.keras.Model(input,output)\n",
        "\n",
        "model.compile(loss=tf.keras.losses.SparseCategoricalCrossentropy(),\n",
        "              optimizer=tf.keras.optimizers.Adam(),\n",
        "              metrics=['accuracy'])\n",
        "\n",
        "model.summary()\n",
        "\n",
        "for layer in model.layers:\n",
        "  print(layer.name,layer.trainable,layer.dtype,layer.dtype_policy)\n",
        "\n"
      ],
      "metadata": {
        "id": "NjEJBmbaY061"
      },
      "execution_count": null,
      "outputs": []
    },
    {
      "cell_type": "code",
      "source": [
        "history_101=model.fit(train_data,\n",
        "                      epochs=3,  # prefer 3 epochs ,over it overfitting occur\n",
        "                      steps_per_epoch=len(train_data),\n",
        "                      validation_data=test_data,\n",
        "                      validation_steps=int(0.15*len(test_data)),\n",
        "                      )\n",
        "\n",
        "model.evaluate(test_data)\n",
        "\n"
      ],
      "metadata": {
        "id": "qqxAgCLKY09d"
      },
      "execution_count": null,
      "outputs": []
    },
    {
      "cell_type": "code",
      "source": [
        "# unfreeze some layers\n",
        "base_model.trainable=True\n",
        "\n",
        "for x in base_model.layers[:-25]:\n",
        "  x.trainable=False\n",
        "\n",
        "\n",
        "initial_epoch=history_101.epoch\n",
        "\n",
        "fine_tune_epoch=len(initial_epoch)+2\n",
        "\n",
        "history_101_fine_tune=model.fit(train_data,\n",
        "                    epochs=fine_tune_epoch,\n",
        "                    validation_data=test_data,\n",
        "                    validation_steps=int(0.15*len(test_data)),\n",
        "                    initial_epoch=len(initial_epoch)-1)\n",
        "\n",
        "initial_epoch=history_101_fine_tune.epoch\n",
        "\n",
        "fine_tune_epoch=len(initial_epoch)+5\n",
        "\n",
        "history=model.fit(train_data,\n",
        "                    epochs=fine_tune_epoch,\n",
        "                    validation_data=test_data,\n",
        "                    validation_steps=int(0.15*len(test_data)),\n",
        "                    initial_epoch=len(initial_epoch)-1)\n",
        "\n",
        "model.evaluate(test_data)\n",
        "\n",
        "tf.keras.models.save_model(model,\"fine_tune_model_1.h5\")\n",
        "\n",
        "tf.keras.models.save_model(model,\"/content/drive/MyDrive/Colab Notebooks/models/food_vision_fine_tune_model_1.h5\")\n",
        "\n"
      ],
      "metadata": {
        "id": "IVhZsoDPY1An"
      },
      "execution_count": null,
      "outputs": []
    },
    {
      "cell_type": "code",
      "source": [
        "loaded_model=tf.keras.models.load_model('/content/07_efficientnetb0_fine_tuned_101_classes_mixed_precision')\n",
        "\n",
        "loaded_model.evaluate(test_data)\n",
        "\n"
      ],
      "metadata": {
        "id": "d4-6k0G9Y1DN"
      },
      "execution_count": null,
      "outputs": []
    }
  ]
}